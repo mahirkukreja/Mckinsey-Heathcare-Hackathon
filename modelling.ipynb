{
 "cells": [
  {
   "cell_type": "code",
   "execution_count": 1,
   "metadata": {},
   "outputs": [],
   "source": [
    "# imports\n",
    "import warnings\n",
    "warnings.filterwarnings('ignore')\n",
    "import pandas as pd\n",
    "pd.set_option('display.max_rows', 40)\n",
    "pd.set_option('display.max_columns', 40)\n",
    "import numpy as np\n",
    "import hyperopt\n",
    "from hyperopt import hp, tpe, STATUS_OK, Trials\n",
    "from sklearn.metrics import roc_auc_score,auc,roc_curve\n",
    "import xgboost as xgb\n",
    "from sklearn.model_selection import KFold,StratifiedKFold\n",
    "from collections import Counter\n",
    "import pickle\n",
    "#import plotting libraries\n",
    "import seaborn as sns\n",
    "import matplotlib.pyplot as plt\n",
    "import matplotlib\n",
    "matplotlib.rcParams['figure.figsize'] = (18.0, 6.0)"
   ]
  },
  {
   "cell_type": "code",
   "execution_count": 2,
   "metadata": {},
   "outputs": [],
   "source": [
    "train=pd.read_csv('prepped_train.csv')"
   ]
  },
  {
   "cell_type": "code",
   "execution_count": 3,
   "metadata": {},
   "outputs": [
    {
     "name": "stdout",
     "output_type": "stream",
     "text": [
      "{0.0: 1.0, 1.0: 54.43}\n"
     ]
    }
   ],
   "source": [
    "def get_class_weights(y):\n",
    "    counter = Counter(y)\n",
    "    majority = max(counter.values())\n",
    "    return  {cls: round(float(majority)/float(count), 2) for cls, count in counter.items()}\n",
    "\n",
    "class_weights = get_class_weights(train.stroke.values)\n",
    "print(class_weights)"
   ]
  },
  {
   "cell_type": "code",
   "execution_count": 4,
   "metadata": {},
   "outputs": [],
   "source": [
    "X=train.drop(['stroke','id'],axis=1)\n",
    "Y=train['stroke']"
   ]
  },
  {
   "cell_type": "code",
   "execution_count": 5,
   "metadata": {},
   "outputs": [],
   "source": [
    "# # Hyperparameter tuning\n",
    "# param_dict={}\n",
    "# space = {\n",
    "#         'max_depth': hp.choice('max_depth', np.arange(1, 10, dtype=int)),\n",
    "#         'min_child_weight': hp.choice('min_child_weight', np.arange(1, 10, dtype=int)),\n",
    "#         'subsample': hp.uniform('subsample', 0.5, 1),\n",
    "#         'n_estimators': hp.choice('n_estimators', np.arange(100, 600, 10, dtype=int)),\n",
    "#         'eta': hp.uniform('eta', 0.01, 0.1),\n",
    "#         'gamma': hp.uniform('gamma', 0, 10),\n",
    "#         'colsample_bytree': hp.uniform('colsample_bytree', 0.5, 1)\n",
    "#     }\n",
    "\n",
    "\n",
    "# def objective(space):\n",
    "#     params = {\n",
    "#             'min_child_weight': space['min_child_weight'],\n",
    "#             'eta': space['eta'],\n",
    "#             'colsample_bytree': space['colsample_bytree'],\n",
    "#             'max_depth': space['max_depth'],\n",
    "#             'subsample': space['subsample'],\n",
    "#             'gamma': space['gamma'],\n",
    "#             'n_estimators': space['n_estimators'],\n",
    "#             'silent': 1,\n",
    "#             'verbose_eval': True,\n",
    "#     'objective':'binary:logistic',}\n",
    "#     xgtrain = xgb.DMatrix(X, label=Y)\n",
    "#     cv = xgb.cv(params,\n",
    "#                 xgtrain,\n",
    "#                 nfold=5,metrics='auc',\n",
    "#                 num_boost_round=10000,\n",
    "#                 early_stopping_rounds=50, as_pandas=True,stratified=True)\n",
    "#     au = cv['test-auc-mean'].values[-1]\n",
    "#     params['n_estimators']=cv.index[-1]\n",
    "#     param_dict[au]=params\n",
    "#     pickle.dump(param_dict,open('params','wb'))\n",
    "#     print(params, file=open(\"output_xg.txt\", \"a\"))\n",
    "#     print(params)\n",
    "#     print('max='+str(max(param_dict.keys())))\n",
    "#     print ('auc = ', au)\n",
    "#     print(au, file=open(\"output.txt\", \"a\"))\n",
    "#     return{'loss': -au, 'status': STATUS_OK}\n",
    "# try:\n",
    "    \n",
    "#     trials = Trials()\n",
    "#     best = hyperopt.fmin(fn=objective,\n",
    "#         space=space,\n",
    "#         algo=tpe.suggest,\n",
    "#         max_evals=1000,\n",
    "#         trials=trials\n",
    "#         )\n",
    "# except:\n",
    "#     pass"
   ]
  },
  {
   "cell_type": "code",
   "execution_count": 6,
   "metadata": {},
   "outputs": [],
   "source": [
    "xg_params={'min_child_weight': 6, 'eta': 0.06260989914605466, 'colsample_bytree': 0.5560612895633646, 'max_depth': 3, 'subsample': 0.6108971879329279, 'gamma': 0.2235564903371027, 'n_estimators': 131, 'silent': 1, 'verbose_eval': True, 'objective': 'binary:logistic'}\n",
    "# max=0.8651114\n",
    "# auc =  0.8651114"
   ]
  },
  {
   "cell_type": "code",
   "execution_count": 7,
   "metadata": {},
   "outputs": [],
   "source": [
    "test=pd.read_csv('prepped_test.csv')"
   ]
  },
  {
   "cell_type": "code",
   "execution_count": 8,
   "metadata": {},
   "outputs": [],
   "source": [
    "ids=test['id']\n",
    "del test['id']\n",
    "del test['stroke']"
   ]
  },
  {
   "cell_type": "code",
   "execution_count": 9,
   "metadata": {},
   "outputs": [],
   "source": [
    "# Train on full data\n",
    "xgtrain = xgb.DMatrix(X, label=Y)\n",
    "model = xgb.train(xg_params,xgtrain,xg_params['n_estimators'])"
   ]
  },
  {
   "cell_type": "code",
   "execution_count": 10,
   "metadata": {},
   "outputs": [],
   "source": [
    "xgtest=xgb.DMatrix(test,feature_names=test.columns)\n",
    "predictions=model.predict(xgtest)"
   ]
  },
  {
   "cell_type": "code",
   "execution_count": 11,
   "metadata": {},
   "outputs": [
    {
     "data": {
      "text/plain": [
       "<matplotlib.axes._subplots.AxesSubplot at 0x7fe7ccb7c080>"
      ]
     },
     "execution_count": 11,
     "metadata": {},
     "output_type": "execute_result"
    },
    {
     "data": {
      "image/png": "[encoded data removed]",
      "text/plain": [
       "<Figure size 432x288 with 1 Axes>"
      ]
     },
     "metadata": {
      "needs_background": "light"
     },
     "output_type": "display_data"
    }
   ],
   "source": [
    "xgb.plot_importance(model)"
   ]
  },
  {
   "cell_type": "code",
   "execution_count": 12,
   "metadata": {},
   "outputs": [],
   "source": [
    "op=pd.DataFrame()\n",
    "op['id']=ids\n",
    "op['stroke']=predictions\n",
    "op.to_csv('op.csv',index=False)"
   ]
  }
 ],
 "metadata": {
  "kernelspec": {
   "display_name": "Python 3",
   "language": "python",
   "name": "python3"
  },
  "language_info": {
   "codemirror_mode": {
    "name": "ipython",
    "version": 3
   },
   "file_extension": ".py",
   "mimetype": "text/x-python",
   "name": "python",
   "nbconvert_exporter": "python",
   "pygments_lexer": "ipython3",
   "version": "3.7.1"
  }
 },
 "nbformat": 4,
 "nbformat_minor": 2
}
