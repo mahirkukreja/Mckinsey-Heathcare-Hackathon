{
 "cells": [
  {
   "cell_type": "code",
   "execution_count": 8,
   "metadata": {},
   "outputs": [],
   "source": [
    "# imports\n",
    "import warnings\n",
    "warnings.filterwarnings('ignore')\n",
    "import pandas as pd\n",
    "pd.set_option('display.max_rows', 40)\n",
    "pd.set_option('display.max_columns', 40)\n",
    "import numpy as np\n",
    "import hyperopt\n",
    "from hyperopt import hp, tpe, STATUS_OK, Trials\n",
    "from sklearn.metrics import roc_auc_score,auc,roc_curve\n",
    "import xgboost as xgb\n",
    "from sklearn.model_selection import KFold,StratifiedKFold\n",
    "from collections import Counter\n",
    "import pickle"
   ]
  },
  {
   "cell_type": "code",
   "execution_count": 9,
   "metadata": {},
   "outputs": [],
   "source": [
    "train=pd.read_csv('prepped_train.csv')"
   ]
  },
  {
   "cell_type": "code",
   "execution_count": 10,
   "metadata": {},
   "outputs": [
    {
     "name": "stdout",
     "output_type": "stream",
     "text": [
      "{0.0: 1.0, 1.0: 54.43}\n"
     ]
    }
   ],
   "source": [
    "def get_class_weights(y):\n",
    "    counter = Counter(y)\n",
    "    majority = max(counter.values())\n",
    "    return  {cls: round(float(majority)/float(count), 2) for cls, count in counter.items()}\n",
    "\n",
    "class_weights = get_class_weights(train.stroke.values)\n",
    "print(class_weights)"
   ]
  },
  {
   "cell_type": "code",
   "execution_count": 11,
   "metadata": {},
   "outputs": [],
   "source": [
    "X=train.drop(['stroke','id'],axis=1)\n",
    "Y=train['stroke']"
   ]
  },
  {
   "cell_type": "code",
   "execution_count": 17,
   "metadata": {},
   "outputs": [
    {
     "name": "stdout",
     "output_type": "stream",
     "text": [
      "{'min_child_weight': 1, 'learning_rate': 0.03783628629713371, 'colsample_bytree': 0.9826164591821482, 'max_depth': 4, 'subsample': 0.8344193040933546, 'gamma': 6.166887642129774, 'n_estimators': 440, 'silent': 1, 'verbose_eval': True, 'objective': 'binary:logistic', 'nthread': 8}\n",
      "auc=0.8606853018353006\n",
      "{'min_child_weight': 4, 'learning_rate': 0.059069485786736375, 'colsample_bytree': 0.9096119325555434, 'max_depth': 9, 'subsample': 0.5786309418194371, 'gamma': 5.911501431274515, 'n_estimators': 300, 'silent': 1, 'verbose_eval': True, 'objective': 'binary:logistic', 'nthread': 8}\n",
      "auc=0.8520374304713687\n",
      "{'min_child_weight': 2, 'learning_rate': 0.04344582897871535, 'colsample_bytree': 0.9309461485785986, 'max_depth': 9, 'subsample': 0.9978489488883706, 'gamma': 9.851507125454738, 'n_estimators': 220, 'silent': 1, 'verbose_eval': True, 'objective': 'binary:logistic', 'nthread': 8}\n",
      "auc=0.8622101314519274\n",
      "{'min_child_weight': 4, 'learning_rate': 0.05813871366236947, 'colsample_bytree': 0.9413620150287612, 'max_depth': 7, 'subsample': 0.7958405250501462, 'gamma': 7.544159947768543, 'n_estimators': 570, 'silent': 1, 'verbose_eval': True, 'objective': 'binary:logistic', 'nthread': 8}\n",
      "auc=0.8568704230251283\n",
      "{'min_child_weight': 7, 'learning_rate': 0.07931647367044477, 'colsample_bytree': 0.5800542695065676, 'max_depth': 5, 'subsample': 0.9401886730556221, 'gamma': 1.8351192266347471, 'n_estimators': 140, 'silent': 1, 'verbose_eval': True, 'objective': 'binary:logistic', 'nthread': 8}\n",
      "auc=0.8581736458643773\n",
      "{'min_child_weight': 7, 'learning_rate': 0.09930528281413713, 'colsample_bytree': 0.8141252295494328, 'max_depth': 4, 'subsample': 0.9956424423805339, 'gamma': 4.196714916868895, 'n_estimators': 370, 'silent': 1, 'verbose_eval': True, 'objective': 'binary:logistic', 'nthread': 8}\n",
      "auc=0.8595725622111579\n",
      "{'min_child_weight': 3, 'learning_rate': 0.04063678702823227, 'colsample_bytree': 0.6519641268627586, 'max_depth': 3, 'subsample': 0.6541554615801564, 'gamma': 2.292391343350255, 'n_estimators': 370, 'silent': 1, 'verbose_eval': True, 'objective': 'binary:logistic', 'nthread': 8}\n",
      "auc=0.8596919200746509\n",
      "{'min_child_weight': 6, 'learning_rate': 0.06701960405279031, 'colsample_bytree': 0.5603963110847517, 'max_depth': 3, 'subsample': 0.6926760554765912, 'gamma': 4.55072563702386, 'n_estimators': 570, 'silent': 1, 'verbose_eval': True, 'objective': 'binary:logistic', 'nthread': 8}\n",
      "auc=0.8581278296296231\n",
      "{'min_child_weight': 8, 'learning_rate': 0.07495075356676022, 'colsample_bytree': 0.6390880397077734, 'max_depth': 9, 'subsample': 0.9340823283680183, 'gamma': 4.5373164549663505, 'n_estimators': 370, 'silent': 1, 'verbose_eval': True, 'objective': 'binary:logistic', 'nthread': 8}\n",
      "auc=0.853625361140887\n",
      "{'min_child_weight': 4, 'learning_rate': 0.018198211315920282, 'colsample_bytree': 0.9280929525770524, 'max_depth': 3, 'subsample': 0.9618470565547484, 'gamma': 8.925015435213462, 'n_estimators': 210, 'silent': 1, 'verbose_eval': True, 'objective': 'binary:logistic', 'nthread': 8}\n",
      "auc=0.8587658789249819\n",
      "{'min_child_weight': 7, 'learning_rate': 0.012211356322958446, 'colsample_bytree': 0.6522047880108908, 'max_depth': 2, 'subsample': 0.9708934734063388, 'gamma': 7.499146969879044, 'n_estimators': 360, 'silent': 1, 'verbose_eval': True, 'objective': 'binary:logistic', 'nthread': 8}\n",
      "auc=0.8617309621133558\n",
      "{'min_child_weight': 1, 'learning_rate': 0.05510342178967275, 'colsample_bytree': 0.559060839435174, 'max_depth': 8, 'subsample': 0.6531897703173135, 'gamma': 0.7848323565977156, 'n_estimators': 440, 'silent': 1, 'verbose_eval': True, 'objective': 'binary:logistic', 'nthread': 8}\n",
      "auc=0.825726175617525\n",
      "{'min_child_weight': 2, 'learning_rate': 0.026396967871986178, 'colsample_bytree': 0.5428218462303596, 'max_depth': 6, 'subsample': 0.9314974403868843, 'gamma': 1.9703033903403933, 'n_estimators': 100, 'silent': 1, 'verbose_eval': True, 'objective': 'binary:logistic', 'nthread': 8}\n",
      "auc=0.8602618516623208\n",
      "{'min_child_weight': 7, 'learning_rate': 0.04510501616998235, 'colsample_bytree': 0.666874457639276, 'max_depth': 5, 'subsample': 0.580948246220188, 'gamma': 7.755109623212664, 'n_estimators': 490, 'silent': 1, 'verbose_eval': True, 'objective': 'binary:logistic', 'nthread': 8}\n",
      "auc=0.8602771981513213\n",
      "{'min_child_weight': 5, 'learning_rate': 0.08027741269069463, 'colsample_bytree': 0.838613026067556, 'max_depth': 1, 'subsample': 0.8927852054741942, 'gamma': 1.1205974346808656, 'n_estimators': 120, 'silent': 1, 'verbose_eval': True, 'objective': 'binary:logistic', 'nthread': 8}\n",
      "auc=0.8606155096045278\n",
      "{'min_child_weight': 2, 'learning_rate': 0.03935361404120267, 'colsample_bytree': 0.7123701039272367, 'max_depth': 2, 'subsample': 0.8348655180896112, 'gamma': 7.021589016110472, 'n_estimators': 370, 'silent': 1, 'verbose_eval': True, 'objective': 'binary:logistic', 'nthread': 8}\n",
      "auc=0.8621203777098506\n",
      "{'min_child_weight': 5, 'learning_rate': 0.08299057916100654, 'colsample_bytree': 0.7851371271964949, 'max_depth': 2, 'subsample': 0.8119820093966807, 'gamma': 2.892442589775024, 'n_estimators': 260, 'silent': 1, 'verbose_eval': True, 'objective': 'binary:logistic', 'nthread': 8}\n",
      "auc=0.8595020177869965\n",
      "{'min_child_weight': 6, 'learning_rate': 0.046354504566584534, 'colsample_bytree': 0.5475594504349591, 'max_depth': 8, 'subsample': 0.790532224548238, 'gamma': 8.425420377752545, 'n_estimators': 520, 'silent': 1, 'verbose_eval': True, 'objective': 'binary:logistic', 'nthread': 8}\n",
      "auc=0.8613086317458759\n",
      "{'min_child_weight': 2, 'learning_rate': 0.03701359059229133, 'colsample_bytree': 0.739939456337534, 'max_depth': 7, 'subsample': 0.742424315743058, 'gamma': 9.740546032233887, 'n_estimators': 400, 'silent': 1, 'verbose_eval': True, 'objective': 'binary:logistic', 'nthread': 8}\n",
      "auc=0.8610976186447221\n",
      "{'min_child_weight': 3, 'learning_rate': 0.052786758168318626, 'colsample_bytree': 0.7027076823627646, 'max_depth': 3, 'subsample': 0.6817388907894795, 'gamma': 6.6868637056859725, 'n_estimators': 240, 'silent': 1, 'verbose_eval': True, 'objective': 'binary:logistic', 'nthread': 8}\n",
      "auc=0.8624991120770089\n",
      "{'min_child_weight': 1, 'learning_rate': 0.06236390395556355, 'colsample_bytree': 0.8742081701596576, 'max_depth': 8, 'subsample': 0.5323711471763367, 'gamma': 5.809405402621067, 'n_estimators': 270, 'silent': 1, 'verbose_eval': True, 'objective': 'binary:logistic', 'nthread': 8}\n",
      "auc=0.8522804059796153\n",
      "{'min_child_weight': 1, 'learning_rate': 0.09452329211547028, 'colsample_bytree': 0.5051739287922358, 'max_depth': 9, 'subsample': 0.5938098379223754, 'gamma': 0.5593851311718419, 'n_estimators': 350, 'silent': 1, 'verbose_eval': True, 'objective': 'binary:logistic', 'nthread': 8}\n",
      "auc=0.8082981354877159\n",
      "{'min_child_weight': 9, 'learning_rate': 0.09447796430008859, 'colsample_bytree': 0.5012807746462217, 'max_depth': 8, 'subsample': 0.6185494010816869, 'gamma': 0.045574881764426145, 'n_estimators': 350, 'silent': 1, 'verbose_eval': True, 'objective': 'binary:logistic', 'nthread': 8}\n",
      "auc=0.8337734904129392\n",
      "{'min_child_weight': 1, 'learning_rate': 0.09342254370246098, 'colsample_bytree': 0.6052059502790664, 'max_depth': 8, 'subsample': 0.5068059774859683, 'gamma': 0.036485637086705935, 'n_estimators': 510, 'silent': 1, 'verbose_eval': True, 'objective': 'binary:logistic', 'nthread': 8}\n",
      "auc=0.799488384594582\n",
      "{'min_child_weight': 1, 'learning_rate': 0.09066985114803638, 'colsample_bytree': 0.5882996287981139, 'max_depth': 1, 'subsample': 0.5061431789045227, 'gamma': 0.014731739711771948, 'n_estimators': 510, 'silent': 1, 'verbose_eval': True, 'objective': 'binary:logistic', 'nthread': 8}\n",
      "auc=0.8588324242770653\n",
      "{'min_child_weight': 1, 'learning_rate': 0.0896247469077951, 'colsample_bytree': 0.5071550157113477, 'max_depth': 9, 'subsample': 0.5326696819993382, 'gamma': 3.3953386166328405, 'n_estimators': 350, 'silent': 1, 'verbose_eval': True, 'objective': 'binary:logistic', 'nthread': 8}\n",
      "auc=0.8354501630162983\n",
      "{'min_child_weight': 1, 'learning_rate': 0.07070885910032439, 'colsample_bytree': 0.6237875705960059, 'max_depth': 6, 'subsample': 0.5055107381046673, 'gamma': 0.7715966647284214, 'n_estimators': 380, 'silent': 1, 'verbose_eval': True, 'objective': 'binary:logistic', 'nthread': 8}\n"
     ]
    }
   ],
   "source": [
    "# Hyperparameter tuning\n",
    "param_dict={}\n",
    "space = {\n",
    "        'max_depth': hp.choice('max_depth', np.arange(1, 10, dtype=int)),\n",
    "        'min_child_weight': hp.choice('min_child_weight', np.arange(1, 10, dtype=int)),\n",
    "        'subsample': hp.uniform('subsample', 0.5, 1),\n",
    "        'n_estimators': hp.choice('n_estimators', np.arange(100, 600, 10, dtype=int)),\n",
    "        'eta': hp.uniform('eta', 0.01, 0.1),\n",
    "        'gamma': hp.uniform('gamma', 0, 10),\n",
    "        'colsample_bytree': hp.uniform('colsample_bytree', 0.5, 1)\n",
    "    }\n",
    "\n",
    "\n",
    "def objective(space):\n",
    "    params = {\n",
    "            'min_child_weight': space['min_child_weight'],\n",
    "            'eta': space['eta'],\n",
    "            'colsample_bytree': space['colsample_bytree'],\n",
    "            'max_depth': space['max_depth'],\n",
    "            'subsample': space['subsample'],\n",
    "            'gamma': space['gamma'],\n",
    "            'n_estimators': space['n_estimators'],\n",
    "            'silent': 1,\n",
    "            'verbose_eval': True,\n",
    "    'objective':'binary:logistic',\n",
    "    'nthread':8}\n",
    "    print(params, file=open(\"output_xg.txt\", \"a\"))\n",
    "    print(params)\n",
    "    skf = StratifiedKFold(n_splits=5)\n",
    "    count=0\n",
    "    for train_index, test_index in skf.split(X[0:X.shape[0]], Y):\n",
    "        X_train, X_test = pd.DataFrame(X.values[train_index],columns=X.columns), pd.DataFrame(X.values[test_index],columns=X.columns)\n",
    "        y_train, y_test = Y[train_index], Y[test_index]    \n",
    "        xgtrain = xgb.DMatrix(X_train, label=y_train)\n",
    "        model = xgb.train(params,xgtrain,space['n_estimators'])\n",
    "        fp_rate, tp_rate, thresholds = roc_curve(y_test, model.predict(xgb.DMatrix(X_test)))\n",
    "        count=count+auc(fp_rate, tp_rate)\n",
    "    print('auc='+str(count/5))    \n",
    "    print((count/5), file=open(\"output_xg.txt\", \"a\"))\n",
    "    param_dict[count/5]=params\n",
    "    return count/5\n",
    "try:\n",
    "    \n",
    "    trials = Trials()\n",
    "    best = hyperopt.fmin(fn=objective,\n",
    "        space=space,\n",
    "        algo=tpe.suggest,\n",
    "        max_evals=1000,\n",
    "        trials=trials\n",
    "        )\n",
    "except:\n",
    "    pass"
   ]
  },
  {
   "cell_type": "code",
   "execution_count": null,
   "metadata": {},
   "outputs": [],
   "source": [
    "# {'min_child_weight': 4, 'eta': 0.08561247330656825, 'colsample_bytree': 0.6531780240267306, 'max_depth': 3, 'subsample': 0.9154275812011686, 'gamma': 3.636512715240638, 'n_estimators': 110, 'silent': 1, 'verbose_eval': True, 'objective': 'binary:logistic', 'nthread': 8}\n",
    "# auc=0.8625443411982147"
   ]
  }
 ],
 "metadata": {
  "kernelspec": {
   "display_name": "Python 3",
   "language": "python",
   "name": "python3"
  },
  "language_info": {
   "codemirror_mode": {
    "name": "ipython",
    "version": 3
   },
   "file_extension": ".py",
   "mimetype": "text/x-python",
   "name": "python",
   "nbconvert_exporter": "python",
   "pygments_lexer": "ipython3",
   "version": "3.7.1"
  }
 },
 "nbformat": 4,
 "nbformat_minor": 2
}
